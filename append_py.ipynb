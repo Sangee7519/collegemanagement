{
  "nbformat": 4,
  "nbformat_minor": 0,
  "metadata": {
    "colab": {
      "name": "append.py",
      "provenance": [],
      "collapsed_sections": [],
      "authorship_tag": "ABX9TyOPupB0+GmRTg8IEbfUpnMS",
      "include_colab_link": true
    },
    "kernelspec": {
      "name": "python3",
      "display_name": "Python 3"
    },
    "language_info": {
      "name": "python"
    }
  },
  "cells": [
    {
      "cell_type": "markdown",
      "metadata": {
        "id": "view-in-github",
        "colab_type": "text"
      },
      "source": [
        "<a href=\"https://colab.research.google.com/github/Sangee7519/collegemanagement/blob/main/append_py.ipynb\" target=\"_parent\"><img src=\"https://colab.research.google.com/assets/colab-badge.svg\" alt=\"Open In Colab\"/></a>"
      ]
    },
    {
      "cell_type": "code",
      "execution_count": 14,
      "metadata": {
        "id": "OUi_GzFMB1Pd"
      },
      "outputs": [],
      "source": [
        "list1=[1,2,3,45,45]\n",
        "print(list1)"
      ]
    },
    {
      "cell_type": "code",
      "source": [
        "#append function 1. an element at the last posstion\n",
        "list1.append(\"orange\")\n",
        "print(list1)"
      ],
      "metadata": {
        "id": "Pza72a86CGUr"
      },
      "execution_count": 16,
      "outputs": []
    },
    {
      "cell_type": "code",
      "source": [
        "list1.append(9)\n",
        "print(list1)"
      ],
      "metadata": {
        "colab": {
          "base_uri": "https://localhost:8080/"
        },
        "id": "Z0BTofnfDVKe",
        "outputId": "2d948f76-35e2-4896-f86b-3e6355c62a7e"
      },
      "execution_count": 20,
      "outputs": [
        {
          "output_type": "stream",
          "name": "stdout",
          "text": [
            "[1, 2, 3, 45, 45, 'orange', 9, 9]\n"
          ]
        }
      ]
    },
    {
      "cell_type": "code",
      "source": [
        "a1=[1,2,3,5,6]\n",
        "b1=[23,34,45,45,65]\n",
        "a1.append(b1)"
      ],
      "metadata": {
        "id": "JZQzSSbsEDK9"
      },
      "execution_count": 30,
      "outputs": []
    },
    {
      "cell_type": "code",
      "source": [
        "print(a1)"
      ],
      "metadata": {
        "colab": {
          "base_uri": "https://localhost:8080/"
        },
        "id": "ROQw60tPECKr",
        "outputId": "89d13a43-3587-4a52-dded-3103e3541558"
      },
      "execution_count": 31,
      "outputs": [
        {
          "output_type": "stream",
          "name": "stdout",
          "text": [
            "[1, 2, 3, 5, 6, [23, 34, 45, 45, 65]]\n"
          ]
        }
      ]
    },
    {
      "cell_type": "code",
      "source": [
        "b2=(1,2,3,4)\n",
        "a1.append(b2)\n",
        "print(a1)"
      ],
      "metadata": {
        "colab": {
          "base_uri": "https://localhost:8080/"
        },
        "id": "KSu0JmvXGtmO",
        "outputId": "350d2a4f-2ca8-46c6-885a-611e21fa6a61"
      },
      "execution_count": 32,
      "outputs": [
        {
          "output_type": "stream",
          "name": "stdout",
          "text": [
            "[1, 2, 3, 5, 6, [23, 34, 45, 45, 65], (1, 2, 3, 4)]\n"
          ]
        }
      ]
    },
    {
      "cell_type": "code",
      "source": [
        "b3={12,23,34,34}\n",
        "a1.append(b3)\n"
      ],
      "metadata": {
        "id": "bJazaRsyG3oS"
      },
      "execution_count": 37,
      "outputs": []
    },
    {
      "cell_type": "code",
      "source": [
        "print(a1)"
      ],
      "metadata": {
        "colab": {
          "base_uri": "https://localhost:8080/"
        },
        "id": "-agCmKg3HHvY",
        "outputId": "95284df7-3aac-4a42-a3d0-2b2308147db4"
      },
      "execution_count": 41,
      "outputs": [
        {
          "output_type": "stream",
          "name": "stdout",
          "text": [
            "[1, 2, 3, 5, 6, [23, 34, 45, 45, 65], (1, 2, 3, 4), {34, 12, 23}, {34, 12, 23}, {34, 12, 23}, {34, 12, 23}, {34, 12, 23}]\n"
          ]
        }
      ]
    }
  ]
}